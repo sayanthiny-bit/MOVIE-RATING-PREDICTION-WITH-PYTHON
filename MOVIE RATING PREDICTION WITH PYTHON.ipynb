{
 "cells": [
  {
   "cell_type": "markdown",
   "id": "6f7c209e-ce2d-4cd9-b935-7014e06269e3",
   "metadata": {},
   "source": [
    "# MOVIE RATING PREDICTION WITH PYTHON"
   ]
  },
  {
   "cell_type": "markdown",
   "id": "dede74e6-5972-4a2b-96a5-987b5017fba8",
   "metadata": {},
   "source": [
    "\n",
    "Build a model that predicts the rating of a movie based on\n",
    "features like genre, director, and actors. You can use regression\n",
    "techniques to tackle this problem.\n",
    "The goal is to analyze historical movie data and develop a model\n",
    "that accurately estimates the rating given to a movie by users or\n",
    "critics.\n",
    "Movie Rating Prediction project enables you to explore data\n",
    "analysis, preprocessing, feature engineering, and machine\n",
    "learning modeling techniques. It provides insights into the factors\n",
    "that influence movie ratings and allows you to build a model that\n",
    "can estimate the ratings of movies accurately.\n"
   ]
  },
  {
   "cell_type": "code",
   "execution_count": 7,
   "id": "bcd37e80-4cff-4f20-a931-2d2196f94c1a",
   "metadata": {},
   "outputs": [],
   "source": [
    "import numpy as np\n",
    "import pandas as pd\n",
    "import matplotlib.pyplot as plt\n",
    "import seaborn as sns \n"
   ]
  },
  {
   "cell_type": "code",
   "execution_count": 3,
   "id": "00ae72ac-25c3-4cb0-8539-c88614f6442a",
   "metadata": {},
   "outputs": [
    {
     "data": {
      "text/html": [
       "<div>\n",
       "<style scoped>\n",
       "    .dataframe tbody tr th:only-of-type {\n",
       "        vertical-align: middle;\n",
       "    }\n",
       "\n",
       "    .dataframe tbody tr th {\n",
       "        vertical-align: top;\n",
       "    }\n",
       "\n",
       "    .dataframe thead th {\n",
       "        text-align: right;\n",
       "    }\n",
       "</style>\n",
       "<table border=\"1\" class=\"dataframe\">\n",
       "  <thead>\n",
       "    <tr style=\"text-align: right;\">\n",
       "      <th></th>\n",
       "      <th>Name</th>\n",
       "      <th>Year</th>\n",
       "      <th>Duration</th>\n",
       "      <th>Genre</th>\n",
       "      <th>Rating</th>\n",
       "      <th>Votes</th>\n",
       "      <th>Director</th>\n",
       "      <th>Actor 1</th>\n",
       "      <th>Actor 2</th>\n",
       "      <th>Actor 3</th>\n",
       "    </tr>\n",
       "  </thead>\n",
       "  <tbody>\n",
       "    <tr>\n",
       "      <th>0</th>\n",
       "      <td></td>\n",
       "      <td>NaN</td>\n",
       "      <td>NaN</td>\n",
       "      <td>Drama</td>\n",
       "      <td>NaN</td>\n",
       "      <td>NaN</td>\n",
       "      <td>J.S. Randhawa</td>\n",
       "      <td>Manmauji</td>\n",
       "      <td>Birbal</td>\n",
       "      <td>Rajendra Bhatia</td>\n",
       "    </tr>\n",
       "    <tr>\n",
       "      <th>1</th>\n",
       "      <td>#Gadhvi (He thought he was Gandhi)</td>\n",
       "      <td>(2019)</td>\n",
       "      <td>109 min</td>\n",
       "      <td>Drama</td>\n",
       "      <td>7.0</td>\n",
       "      <td>8</td>\n",
       "      <td>Gaurav Bakshi</td>\n",
       "      <td>Rasika Dugal</td>\n",
       "      <td>Vivek Ghamande</td>\n",
       "      <td>Arvind Jangid</td>\n",
       "    </tr>\n",
       "    <tr>\n",
       "      <th>2</th>\n",
       "      <td>#Homecoming</td>\n",
       "      <td>(2021)</td>\n",
       "      <td>90 min</td>\n",
       "      <td>Drama, Musical</td>\n",
       "      <td>NaN</td>\n",
       "      <td>NaN</td>\n",
       "      <td>Soumyajit Majumdar</td>\n",
       "      <td>Sayani Gupta</td>\n",
       "      <td>Plabita Borthakur</td>\n",
       "      <td>Roy Angana</td>\n",
       "    </tr>\n",
       "    <tr>\n",
       "      <th>3</th>\n",
       "      <td>#Yaaram</td>\n",
       "      <td>(2019)</td>\n",
       "      <td>110 min</td>\n",
       "      <td>Comedy, Romance</td>\n",
       "      <td>4.4</td>\n",
       "      <td>35</td>\n",
       "      <td>Ovais Khan</td>\n",
       "      <td>Prateik</td>\n",
       "      <td>Ishita Raj</td>\n",
       "      <td>Siddhant Kapoor</td>\n",
       "    </tr>\n",
       "    <tr>\n",
       "      <th>4</th>\n",
       "      <td>...And Once Again</td>\n",
       "      <td>(2010)</td>\n",
       "      <td>105 min</td>\n",
       "      <td>Drama</td>\n",
       "      <td>NaN</td>\n",
       "      <td>NaN</td>\n",
       "      <td>Amol Palekar</td>\n",
       "      <td>Rajat Kapoor</td>\n",
       "      <td>Rituparna Sengupta</td>\n",
       "      <td>Antara Mali</td>\n",
       "    </tr>\n",
       "  </tbody>\n",
       "</table>\n",
       "</div>"
      ],
      "text/plain": [
       "                                 Name    Year Duration            Genre  \\\n",
       "0                                         NaN      NaN            Drama   \n",
       "1  #Gadhvi (He thought he was Gandhi)  (2019)  109 min            Drama   \n",
       "2                         #Homecoming  (2021)   90 min   Drama, Musical   \n",
       "3                             #Yaaram  (2019)  110 min  Comedy, Romance   \n",
       "4                   ...And Once Again  (2010)  105 min            Drama   \n",
       "\n",
       "   Rating Votes            Director       Actor 1             Actor 2  \\\n",
       "0     NaN   NaN       J.S. Randhawa      Manmauji              Birbal   \n",
       "1     7.0     8       Gaurav Bakshi  Rasika Dugal      Vivek Ghamande   \n",
       "2     NaN   NaN  Soumyajit Majumdar  Sayani Gupta   Plabita Borthakur   \n",
       "3     4.4    35          Ovais Khan       Prateik          Ishita Raj   \n",
       "4     NaN   NaN        Amol Palekar  Rajat Kapoor  Rituparna Sengupta   \n",
       "\n",
       "           Actor 3  \n",
       "0  Rajendra Bhatia  \n",
       "1    Arvind Jangid  \n",
       "2       Roy Angana  \n",
       "3  Siddhant Kapoor  \n",
       "4      Antara Mali  "
      ]
     },
     "execution_count": 3,
     "metadata": {},
     "output_type": "execute_result"
    }
   ],
   "source": [
    "movieData = pd.read_csv(r'D:\\Data Analysist\\Python\\MOVIE RATING PREDICTION WITH PYTHON\\New folder\\IMDb Movies India.csv',sep=',', encoding='latin1')\n",
    "movieData.head()\n"
   ]
  },
  {
   "cell_type": "code",
   "execution_count": 4,
   "id": "7c4074ae-1a38-4c0f-8770-99ffd19991f7",
   "metadata": {},
   "outputs": [
    {
     "data": {
      "text/plain": [
       "(15509, 10)"
      ]
     },
     "execution_count": 4,
     "metadata": {},
     "output_type": "execute_result"
    }
   ],
   "source": [
    "movieData.shape"
   ]
  },
  {
   "cell_type": "code",
   "execution_count": null,
   "id": "b9a59b43-b8bc-41c6-afd0-7e07938dd6cb",
   "metadata": {},
   "outputs": [],
   "source": [
    "movieData.info()\n"
   ]
  },
  {
   "cell_type": "code",
   "execution_count": 5,
   "id": "966f0275-0512-4021-8520-e05200fefc6c",
   "metadata": {},
   "outputs": [
    {
     "data": {
      "text/html": [
       "<div>\n",
       "<style scoped>\n",
       "    .dataframe tbody tr th:only-of-type {\n",
       "        vertical-align: middle;\n",
       "    }\n",
       "\n",
       "    .dataframe tbody tr th {\n",
       "        vertical-align: top;\n",
       "    }\n",
       "\n",
       "    .dataframe thead th {\n",
       "        text-align: right;\n",
       "    }\n",
       "</style>\n",
       "<table border=\"1\" class=\"dataframe\">\n",
       "  <thead>\n",
       "    <tr style=\"text-align: right;\">\n",
       "      <th></th>\n",
       "      <th>Rating</th>\n",
       "    </tr>\n",
       "  </thead>\n",
       "  <tbody>\n",
       "    <tr>\n",
       "      <th>count</th>\n",
       "      <td>7919.000000</td>\n",
       "    </tr>\n",
       "    <tr>\n",
       "      <th>mean</th>\n",
       "      <td>5.841621</td>\n",
       "    </tr>\n",
       "    <tr>\n",
       "      <th>std</th>\n",
       "      <td>1.381777</td>\n",
       "    </tr>\n",
       "    <tr>\n",
       "      <th>min</th>\n",
       "      <td>1.100000</td>\n",
       "    </tr>\n",
       "    <tr>\n",
       "      <th>25%</th>\n",
       "      <td>4.900000</td>\n",
       "    </tr>\n",
       "    <tr>\n",
       "      <th>50%</th>\n",
       "      <td>6.000000</td>\n",
       "    </tr>\n",
       "    <tr>\n",
       "      <th>75%</th>\n",
       "      <td>6.800000</td>\n",
       "    </tr>\n",
       "    <tr>\n",
       "      <th>max</th>\n",
       "      <td>10.000000</td>\n",
       "    </tr>\n",
       "  </tbody>\n",
       "</table>\n",
       "</div>"
      ],
      "text/plain": [
       "            Rating\n",
       "count  7919.000000\n",
       "mean      5.841621\n",
       "std       1.381777\n",
       "min       1.100000\n",
       "25%       4.900000\n",
       "50%       6.000000\n",
       "75%       6.800000\n",
       "max      10.000000"
      ]
     },
     "execution_count": 5,
     "metadata": {},
     "output_type": "execute_result"
    }
   ],
   "source": [
    "movieData.describe()"
   ]
  },
  {
   "cell_type": "code",
   "execution_count": 6,
   "id": "1f518e6b-4484-4a2d-b35c-ba41a615c518",
   "metadata": {},
   "outputs": [
    {
     "data": {
      "text/plain": [
       "Name           0\n",
       "Year         528\n",
       "Duration    8269\n",
       "Genre       1877\n",
       "Rating      7590\n",
       "Votes       7589\n",
       "Director     525\n",
       "Actor 1     1617\n",
       "Actor 2     2384\n",
       "Actor 3     3144\n",
       "dtype: int64"
      ]
     },
     "execution_count": 6,
     "metadata": {},
     "output_type": "execute_result"
    }
   ],
   "source": [
    "movieData.isnull().sum()"
   ]
  },
  {
   "cell_type": "code",
   "execution_count": 8,
   "id": "78c70614-901a-4ce3-9391-1fcdc8e2aa18",
   "metadata": {},
   "outputs": [
    {
     "data": {
      "text/plain": [
       "np.int64(6)"
      ]
     },
     "execution_count": 8,
     "metadata": {},
     "output_type": "execute_result"
    }
   ],
   "source": [
    "movieData.duplicated().sum()"
   ]
  },
  {
   "cell_type": "code",
   "execution_count": 9,
   "id": "9f13dbed-891b-4191-b6dc-1d808d63d540",
   "metadata": {},
   "outputs": [],
   "source": [
    "movieData.dropna(inplace = True)"
   ]
  },
  {
   "cell_type": "code",
   "execution_count": 10,
   "id": "9d64286e-8b4a-4232-89d1-ff7a0737f14a",
   "metadata": {},
   "outputs": [
    {
     "data": {
      "text/html": [
       "<div>\n",
       "<style scoped>\n",
       "    .dataframe tbody tr th:only-of-type {\n",
       "        vertical-align: middle;\n",
       "    }\n",
       "\n",
       "    .dataframe tbody tr th {\n",
       "        vertical-align: top;\n",
       "    }\n",
       "\n",
       "    .dataframe thead th {\n",
       "        text-align: right;\n",
       "    }\n",
       "</style>\n",
       "<table border=\"1\" class=\"dataframe\">\n",
       "  <thead>\n",
       "    <tr style=\"text-align: right;\">\n",
       "      <th></th>\n",
       "      <th>Name</th>\n",
       "      <th>Year</th>\n",
       "      <th>Duration</th>\n",
       "      <th>Genre</th>\n",
       "      <th>Rating</th>\n",
       "      <th>Votes</th>\n",
       "      <th>Director</th>\n",
       "      <th>Actor 1</th>\n",
       "      <th>Actor 2</th>\n",
       "      <th>Actor 3</th>\n",
       "    </tr>\n",
       "  </thead>\n",
       "  <tbody>\n",
       "    <tr>\n",
       "      <th>1</th>\n",
       "      <td>#Gadhvi (He thought he was Gandhi)</td>\n",
       "      <td>(2019)</td>\n",
       "      <td>109 min</td>\n",
       "      <td>Drama</td>\n",
       "      <td>7.0</td>\n",
       "      <td>8</td>\n",
       "      <td>Gaurav Bakshi</td>\n",
       "      <td>Rasika Dugal</td>\n",
       "      <td>Vivek Ghamande</td>\n",
       "      <td>Arvind Jangid</td>\n",
       "    </tr>\n",
       "    <tr>\n",
       "      <th>3</th>\n",
       "      <td>#Yaaram</td>\n",
       "      <td>(2019)</td>\n",
       "      <td>110 min</td>\n",
       "      <td>Comedy, Romance</td>\n",
       "      <td>4.4</td>\n",
       "      <td>35</td>\n",
       "      <td>Ovais Khan</td>\n",
       "      <td>Prateik</td>\n",
       "      <td>Ishita Raj</td>\n",
       "      <td>Siddhant Kapoor</td>\n",
       "    </tr>\n",
       "    <tr>\n",
       "      <th>5</th>\n",
       "      <td>...Aur Pyaar Ho Gaya</td>\n",
       "      <td>(1997)</td>\n",
       "      <td>147 min</td>\n",
       "      <td>Comedy, Drama, Musical</td>\n",
       "      <td>4.7</td>\n",
       "      <td>827</td>\n",
       "      <td>Rahul Rawail</td>\n",
       "      <td>Bobby Deol</td>\n",
       "      <td>Aishwarya Rai Bachchan</td>\n",
       "      <td>Shammi Kapoor</td>\n",
       "    </tr>\n",
       "    <tr>\n",
       "      <th>6</th>\n",
       "      <td>...Yahaan</td>\n",
       "      <td>(2005)</td>\n",
       "      <td>142 min</td>\n",
       "      <td>Drama, Romance, War</td>\n",
       "      <td>7.4</td>\n",
       "      <td>1,086</td>\n",
       "      <td>Shoojit Sircar</td>\n",
       "      <td>Jimmy Sheirgill</td>\n",
       "      <td>Minissha Lamba</td>\n",
       "      <td>Yashpal Sharma</td>\n",
       "    </tr>\n",
       "    <tr>\n",
       "      <th>8</th>\n",
       "      <td>?: A Question Mark</td>\n",
       "      <td>(2012)</td>\n",
       "      <td>82 min</td>\n",
       "      <td>Horror, Mystery, Thriller</td>\n",
       "      <td>5.6</td>\n",
       "      <td>326</td>\n",
       "      <td>Allyson Patel</td>\n",
       "      <td>Yash Dave</td>\n",
       "      <td>Muntazir Ahmad</td>\n",
       "      <td>Kiran Bhatia</td>\n",
       "    </tr>\n",
       "  </tbody>\n",
       "</table>\n",
       "</div>"
      ],
      "text/plain": [
       "                                 Name    Year Duration  \\\n",
       "1  #Gadhvi (He thought he was Gandhi)  (2019)  109 min   \n",
       "3                             #Yaaram  (2019)  110 min   \n",
       "5                ...Aur Pyaar Ho Gaya  (1997)  147 min   \n",
       "6                           ...Yahaan  (2005)  142 min   \n",
       "8                  ?: A Question Mark  (2012)   82 min   \n",
       "\n",
       "                       Genre  Rating  Votes        Director          Actor 1  \\\n",
       "1                      Drama     7.0      8   Gaurav Bakshi     Rasika Dugal   \n",
       "3            Comedy, Romance     4.4     35      Ovais Khan          Prateik   \n",
       "5     Comedy, Drama, Musical     4.7    827    Rahul Rawail       Bobby Deol   \n",
       "6        Drama, Romance, War     7.4  1,086  Shoojit Sircar  Jimmy Sheirgill   \n",
       "8  Horror, Mystery, Thriller     5.6    326   Allyson Patel        Yash Dave   \n",
       "\n",
       "                  Actor 2          Actor 3  \n",
       "1          Vivek Ghamande    Arvind Jangid  \n",
       "3              Ishita Raj  Siddhant Kapoor  \n",
       "5  Aishwarya Rai Bachchan    Shammi Kapoor  \n",
       "6          Minissha Lamba   Yashpal Sharma  \n",
       "8          Muntazir Ahmad     Kiran Bhatia  "
      ]
     },
     "execution_count": 10,
     "metadata": {},
     "output_type": "execute_result"
    }
   ],
   "source": [
    "movieData.head()"
   ]
  },
  {
   "cell_type": "code",
   "execution_count": 11,
   "id": "b42614e5-91ad-40dd-99a0-af7cbe98e0ac",
   "metadata": {},
   "outputs": [
    {
     "data": {
      "text/plain": [
       "Name        0\n",
       "Year        0\n",
       "Duration    0\n",
       "Genre       0\n",
       "Rating      0\n",
       "Votes       0\n",
       "Director    0\n",
       "Actor 1     0\n",
       "Actor 2     0\n",
       "Actor 3     0\n",
       "dtype: int64"
      ]
     },
     "execution_count": 11,
     "metadata": {},
     "output_type": "execute_result"
    }
   ],
   "source": [
    "movieData.isnull().sum()"
   ]
  },
  {
   "cell_type": "code",
   "execution_count": 12,
   "id": "42c68912-9d25-4572-9924-8deca5ccaee9",
   "metadata": {},
   "outputs": [
    {
     "data": {
      "text/html": [
       "<div>\n",
       "<style scoped>\n",
       "    .dataframe tbody tr th:only-of-type {\n",
       "        vertical-align: middle;\n",
       "    }\n",
       "\n",
       "    .dataframe tbody tr th {\n",
       "        vertical-align: top;\n",
       "    }\n",
       "\n",
       "    .dataframe thead th {\n",
       "        text-align: right;\n",
       "    }\n",
       "</style>\n",
       "<table border=\"1\" class=\"dataframe\">\n",
       "  <thead>\n",
       "    <tr style=\"text-align: right;\">\n",
       "      <th></th>\n",
       "      <th>Rating</th>\n",
       "    </tr>\n",
       "  </thead>\n",
       "  <tbody>\n",
       "    <tr>\n",
       "      <th>count</th>\n",
       "      <td>5659.000000</td>\n",
       "    </tr>\n",
       "    <tr>\n",
       "      <th>mean</th>\n",
       "      <td>5.898533</td>\n",
       "    </tr>\n",
       "    <tr>\n",
       "      <th>std</th>\n",
       "      <td>1.381165</td>\n",
       "    </tr>\n",
       "    <tr>\n",
       "      <th>min</th>\n",
       "      <td>1.100000</td>\n",
       "    </tr>\n",
       "    <tr>\n",
       "      <th>25%</th>\n",
       "      <td>5.000000</td>\n",
       "    </tr>\n",
       "    <tr>\n",
       "      <th>50%</th>\n",
       "      <td>6.100000</td>\n",
       "    </tr>\n",
       "    <tr>\n",
       "      <th>75%</th>\n",
       "      <td>6.900000</td>\n",
       "    </tr>\n",
       "    <tr>\n",
       "      <th>max</th>\n",
       "      <td>10.000000</td>\n",
       "    </tr>\n",
       "  </tbody>\n",
       "</table>\n",
       "</div>"
      ],
      "text/plain": [
       "            Rating\n",
       "count  5659.000000\n",
       "mean      5.898533\n",
       "std       1.381165\n",
       "min       1.100000\n",
       "25%       5.000000\n",
       "50%       6.100000\n",
       "75%       6.900000\n",
       "max      10.000000"
      ]
     },
     "execution_count": 12,
     "metadata": {},
     "output_type": "execute_result"
    }
   ],
   "source": [
    "movieData.describe()"
   ]
  },
  {
   "cell_type": "code",
   "execution_count": null,
   "id": "a7982b42-32b0-421a-8418-6bb18dd2deed",
   "metadata": {},
   "outputs": [],
   "source": [
    "movieData.info()"
   ]
  },
  {
   "cell_type": "code",
   "execution_count": 13,
   "id": "08334113-7e69-494d-999b-3f5b39ef3d85",
   "metadata": {},
   "outputs": [
    {
     "data": {
      "text/plain": [
       "Index(['Name', 'Year', 'Duration', 'Genre', 'Rating', 'Votes', 'Director',\n",
       "       'Actor 1', 'Actor 2', 'Actor 3'],\n",
       "      dtype='object')"
      ]
     },
     "execution_count": 13,
     "metadata": {},
     "output_type": "execute_result"
    }
   ],
   "source": [
    "movieData.columns"
   ]
  },
  {
   "cell_type": "code",
   "execution_count": null,
   "id": "ceefb66e-d54b-429f-b186-71161b50b5f8",
   "metadata": {},
   "outputs": [],
   "source": [
    "## Data Pre_Processing "
   ]
  },
  {
   "cell_type": "code",
   "execution_count": 14,
   "id": "74230ad4-13d2-48ba-b0ac-3cda156d6442",
   "metadata": {},
   "outputs": [],
   "source": [
    "#Convert into correct data types\n",
    "movieData['Year'] = movieData['Year'].str.replace(r'\\(|\\)', '', regex=True).astype(int)\n",
    "movieData['Duration'] = pd.to_numeric(movieData['Duration'].str.replace(' min', ''))\n",
    "movieData['Votes'] = pd.to_numeric(movieData['Votes'].str.replace(',', ''))"
   ]
  },
  {
   "cell_type": "code",
   "execution_count": 15,
   "id": "5c0c5482-572f-4a3f-98a0-cf9ce3754714",
   "metadata": {},
   "outputs": [
    {
     "name": "stdout",
     "output_type": "stream",
     "text": [
      "<class 'pandas.core.frame.DataFrame'>\n",
      "Index: 5659 entries, 1 to 15508\n",
      "Data columns (total 10 columns):\n",
      " #   Column    Non-Null Count  Dtype  \n",
      "---  ------    --------------  -----  \n",
      " 0   Name      5659 non-null   object \n",
      " 1   Year      5659 non-null   int64  \n",
      " 2   Duration  5659 non-null   int64  \n",
      " 3   Genre     5659 non-null   object \n",
      " 4   Rating    5659 non-null   float64\n",
      " 5   Votes     5659 non-null   int64  \n",
      " 6   Director  5659 non-null   object \n",
      " 7   Actor 1   5659 non-null   object \n",
      " 8   Actor 2   5659 non-null   object \n",
      " 9   Actor 3   5659 non-null   object \n",
      "dtypes: float64(1), int64(3), object(6)\n",
      "memory usage: 486.3+ KB\n"
     ]
    }
   ],
   "source": [
    "movieData.info()"
   ]
  },
  {
   "cell_type": "markdown",
   "id": "68c9c97e-9043-40a9-a6a6-01bbf23b43c5",
   "metadata": {},
   "source": [
    "# Data Visualization "
   ]
  },
  {
   "cell_type": "code",
   "execution_count": 16,
   "id": "4da2e94a-c718-49f1-be38-3df2413ec1dc",
   "metadata": {},
   "outputs": [],
   "source": [
    "## Distribution of Ratings"
   ]
  },
  {
   "cell_type": "code",
   "execution_count": 17,
   "id": "e249ed3f-be0c-41ed-ad16-b49d8d418edc",
   "metadata": {
    "scrolled": true
   },
   "outputs": [
    {
     "data": {
      "image/png": "[encoded data removed]",
      "text/plain": [
       "<Figure size 800x600 with 1 Axes>"
      ]
     },
     "metadata": {},
     "output_type": "display_data"
    }
   ],
   "source": [
    "# Distribution of Ratings\n",
    "plt.figure(figsize=(8, 6))\n",
    "sns.histplot(movieData['Rating'], bins=20, kde=True)\n",
    "plt.title(\"Distribution of Movie Ratings\")\n",
    "plt.xlabel(\"Rating\")\n",
    "plt.ylabel(\"Frequency\")\n",
    "plt.show()"
   ]
  },
  {
   "cell_type": "code",
   "execution_count": 18,
   "id": "dd176c9c-6be5-4cfa-a122-aaf4ce813d85",
   "metadata": {
    "scrolled": true
   },
   "outputs": [
    {
     "data": {
      "image/png": "[encoded data removed]",
      "text/plain": [
       "<Figure size 800x600 with 1 Axes>"
      ]
     },
     "metadata": {},
     "output_type": "display_data"
    }
   ],
   "source": [
    "# Distribution of Movie Years\n",
    "plt.figure(figsize=(8, 6))\n",
    "sns.histplot(movieData['Year'], bins=20, kde=True)\n",
    "plt.title(\"Distribution of Movie Years\")\n",
    "plt.xlabel(\"Year\")\n",
    "plt.ylabel(\"Frequency\")\n",
    "plt.show()"
   ]
  },
  {
   "cell_type": "code",
   "execution_count": 19,
   "id": "8ef0967a-f48d-4687-aa31-7b59eee6d22b",
   "metadata": {},
   "outputs": [
    {
     "data": {
      "image/png": "[encoded data removed]",
      "text/plain": [
       "<Figure size 800x600 with 1 Axes>"
      ]
     },
     "metadata": {},
     "output_type": "display_data"
    }
   ],
   "source": [
    "# Distribution of Movie Durations\n",
    "plt.figure(figsize=(8, 6))\n",
    "sns.histplot(movieData['Duration'], bins=20, kde=True)\n",
    "plt.title(\"Distribution of Movie Durations\")\n",
    "plt.xlabel(\"Duration (in minutes)\")\n",
    "plt.ylabel(\"Frequency\")\n",
    "plt.show()"
   ]
  },
  {
   "cell_type": "code",
   "execution_count": 20,
   "id": "a20e9644-d303-427d-b55a-4fb8b45b6e78",
   "metadata": {},
   "outputs": [
    {
     "data": {
      "image/png": "[encoded data removed]",
      "text/plain": [
       "<Figure size 800x600 with 1 Axes>"
      ]
     },
     "metadata": {},
     "output_type": "display_data"
    }
   ],
   "source": [
    "# Distribution of Votes\n",
    "plt.figure(figsize=(8, 6))\n",
    "sns.histplot(movieData['Votes'], bins=20, kde=True)\n",
    "plt.title(\"Distribution of Movie Votes\")\n",
    "plt.xlabel(\"Number of Votes\")\n",
    "plt.ylabel(\"Frequency\")\n",
    "plt.show()"
   ]
  },
  {
   "cell_type": "code",
   "execution_count": 21,
   "id": "89a23509-28b4-42d0-b48a-3934a218779e",
   "metadata": {},
   "outputs": [],
   "source": [
    "# Drop irrelevant columns\n",
    "movieData.drop(columns=[\"ID\", \"Name\"], errors=\"ignore\", inplace=True) "
   ]
  },
  {
   "cell_type": "markdown",
   "id": "87b3638c-67c9-40c2-ad7d-cec37fee4ab4",
   "metadata": {},
   "source": [
    "# Data Processing"
   ]
  },
  {
   "cell_type": "code",
   "execution_count": 22,
   "id": "4d23370f-43c7-46d0-b365-deacbd9cf7f9",
   "metadata": {},
   "outputs": [
    {
     "data": {
      "text/html": [
       "<div>\n",
       "<style scoped>\n",
       "    .dataframe tbody tr th:only-of-type {\n",
       "        vertical-align: middle;\n",
       "    }\n",
       "\n",
       "    .dataframe tbody tr th {\n",
       "        vertical-align: top;\n",
       "    }\n",
       "\n",
       "    .dataframe thead th {\n",
       "        text-align: right;\n",
       "    }\n",
       "</style>\n",
       "<table border=\"1\" class=\"dataframe\">\n",
       "  <thead>\n",
       "    <tr style=\"text-align: right;\">\n",
       "      <th></th>\n",
       "      <th>Year</th>\n",
       "      <th>Duration</th>\n",
       "      <th>Genre</th>\n",
       "      <th>Rating</th>\n",
       "      <th>Votes</th>\n",
       "      <th>Director</th>\n",
       "      <th>Actor 1</th>\n",
       "      <th>Actor 2</th>\n",
       "      <th>Actor 3</th>\n",
       "    </tr>\n",
       "  </thead>\n",
       "  <tbody>\n",
       "    <tr>\n",
       "      <th>1</th>\n",
       "      <td>2019</td>\n",
       "      <td>109</td>\n",
       "      <td>Drama</td>\n",
       "      <td>7.0</td>\n",
       "      <td>8</td>\n",
       "      <td>Gaurav Bakshi</td>\n",
       "      <td>Rasika Dugal</td>\n",
       "      <td>Vivek Ghamande</td>\n",
       "      <td>Arvind Jangid</td>\n",
       "    </tr>\n",
       "    <tr>\n",
       "      <th>3</th>\n",
       "      <td>2019</td>\n",
       "      <td>110</td>\n",
       "      <td>Comedy, Romance</td>\n",
       "      <td>4.4</td>\n",
       "      <td>35</td>\n",
       "      <td>Ovais Khan</td>\n",
       "      <td>Prateik</td>\n",
       "      <td>Ishita Raj</td>\n",
       "      <td>Siddhant Kapoor</td>\n",
       "    </tr>\n",
       "    <tr>\n",
       "      <th>5</th>\n",
       "      <td>1997</td>\n",
       "      <td>147</td>\n",
       "      <td>Comedy, Drama, Musical</td>\n",
       "      <td>4.7</td>\n",
       "      <td>827</td>\n",
       "      <td>Rahul Rawail</td>\n",
       "      <td>Bobby Deol</td>\n",
       "      <td>Aishwarya Rai Bachchan</td>\n",
       "      <td>Shammi Kapoor</td>\n",
       "    </tr>\n",
       "    <tr>\n",
       "      <th>6</th>\n",
       "      <td>2005</td>\n",
       "      <td>142</td>\n",
       "      <td>Drama, Romance, War</td>\n",
       "      <td>7.4</td>\n",
       "      <td>1086</td>\n",
       "      <td>Shoojit Sircar</td>\n",
       "      <td>Jimmy Sheirgill</td>\n",
       "      <td>Minissha Lamba</td>\n",
       "      <td>Yashpal Sharma</td>\n",
       "    </tr>\n",
       "    <tr>\n",
       "      <th>8</th>\n",
       "      <td>2012</td>\n",
       "      <td>82</td>\n",
       "      <td>Horror, Mystery, Thriller</td>\n",
       "      <td>5.6</td>\n",
       "      <td>326</td>\n",
       "      <td>Allyson Patel</td>\n",
       "      <td>Yash Dave</td>\n",
       "      <td>Muntazir Ahmad</td>\n",
       "      <td>Kiran Bhatia</td>\n",
       "    </tr>\n",
       "    <tr>\n",
       "      <th>...</th>\n",
       "      <td>...</td>\n",
       "      <td>...</td>\n",
       "      <td>...</td>\n",
       "      <td>...</td>\n",
       "      <td>...</td>\n",
       "      <td>...</td>\n",
       "      <td>...</td>\n",
       "      <td>...</td>\n",
       "      <td>...</td>\n",
       "    </tr>\n",
       "    <tr>\n",
       "      <th>15493</th>\n",
       "      <td>2015</td>\n",
       "      <td>115</td>\n",
       "      <td>Drama</td>\n",
       "      <td>6.1</td>\n",
       "      <td>408</td>\n",
       "      <td>Mozez Singh</td>\n",
       "      <td>Vicky Kaushal</td>\n",
       "      <td>Sarah Jane Dias</td>\n",
       "      <td>Raaghavv Chanana</td>\n",
       "    </tr>\n",
       "    <tr>\n",
       "      <th>15494</th>\n",
       "      <td>2001</td>\n",
       "      <td>153</td>\n",
       "      <td>Biography, Drama, History</td>\n",
       "      <td>6.2</td>\n",
       "      <td>1496</td>\n",
       "      <td>Shyam Benegal</td>\n",
       "      <td>Karisma Kapoor</td>\n",
       "      <td>Rekha</td>\n",
       "      <td>Manoj Bajpayee</td>\n",
       "    </tr>\n",
       "    <tr>\n",
       "      <th>15503</th>\n",
       "      <td>1989</td>\n",
       "      <td>125</td>\n",
       "      <td>Action, Crime, Drama</td>\n",
       "      <td>5.8</td>\n",
       "      <td>44</td>\n",
       "      <td>S.P. Muthuraman</td>\n",
       "      <td>Chiranjeevi</td>\n",
       "      <td>Jayamalini</td>\n",
       "      <td>Rajinikanth</td>\n",
       "    </tr>\n",
       "    <tr>\n",
       "      <th>15505</th>\n",
       "      <td>1999</td>\n",
       "      <td>129</td>\n",
       "      <td>Action, Drama</td>\n",
       "      <td>4.5</td>\n",
       "      <td>655</td>\n",
       "      <td>Kuku Kohli</td>\n",
       "      <td>Akshay Kumar</td>\n",
       "      <td>Twinkle Khanna</td>\n",
       "      <td>Aruna Irani</td>\n",
       "    </tr>\n",
       "    <tr>\n",
       "      <th>15508</th>\n",
       "      <td>1998</td>\n",
       "      <td>130</td>\n",
       "      <td>Action, Drama</td>\n",
       "      <td>6.2</td>\n",
       "      <td>20</td>\n",
       "      <td>K.C. Bokadia</td>\n",
       "      <td>Dharmendra</td>\n",
       "      <td>Jaya Prada</td>\n",
       "      <td>Arjun Sarja</td>\n",
       "    </tr>\n",
       "  </tbody>\n",
       "</table>\n",
       "<p>5659 rows × 9 columns</p>\n",
       "</div>"
      ],
      "text/plain": [
       "       Year  Duration                      Genre  Rating  Votes  \\\n",
       "1      2019       109                      Drama     7.0      8   \n",
       "3      2019       110            Comedy, Romance     4.4     35   \n",
       "5      1997       147     Comedy, Drama, Musical     4.7    827   \n",
       "6      2005       142        Drama, Romance, War     7.4   1086   \n",
       "8      2012        82  Horror, Mystery, Thriller     5.6    326   \n",
       "...     ...       ...                        ...     ...    ...   \n",
       "15493  2015       115                      Drama     6.1    408   \n",
       "15494  2001       153  Biography, Drama, History     6.2   1496   \n",
       "15503  1989       125       Action, Crime, Drama     5.8     44   \n",
       "15505  1999       129              Action, Drama     4.5    655   \n",
       "15508  1998       130              Action, Drama     6.2     20   \n",
       "\n",
       "              Director          Actor 1                 Actor 2  \\\n",
       "1        Gaurav Bakshi     Rasika Dugal          Vivek Ghamande   \n",
       "3           Ovais Khan          Prateik              Ishita Raj   \n",
       "5         Rahul Rawail       Bobby Deol  Aishwarya Rai Bachchan   \n",
       "6       Shoojit Sircar  Jimmy Sheirgill          Minissha Lamba   \n",
       "8        Allyson Patel        Yash Dave          Muntazir Ahmad   \n",
       "...                ...              ...                     ...   \n",
       "15493      Mozez Singh    Vicky Kaushal         Sarah Jane Dias   \n",
       "15494    Shyam Benegal   Karisma Kapoor                   Rekha   \n",
       "15503  S.P. Muthuraman      Chiranjeevi              Jayamalini   \n",
       "15505       Kuku Kohli     Akshay Kumar          Twinkle Khanna   \n",
       "15508     K.C. Bokadia       Dharmendra              Jaya Prada   \n",
       "\n",
       "                Actor 3  \n",
       "1         Arvind Jangid  \n",
       "3       Siddhant Kapoor  \n",
       "5         Shammi Kapoor  \n",
       "6        Yashpal Sharma  \n",
       "8          Kiran Bhatia  \n",
       "...                 ...  \n",
       "15493  Raaghavv Chanana  \n",
       "15494    Manoj Bajpayee  \n",
       "15503       Rajinikanth  \n",
       "15505       Aruna Irani  \n",
       "15508       Arjun Sarja  \n",
       "\n",
       "[5659 rows x 9 columns]"
      ]
     },
     "execution_count": 22,
     "metadata": {},
     "output_type": "execute_result"
    }
   ],
   "source": [
    "movieData"
   ]
  },
  {
   "cell_type": "code",
   "execution_count": 23,
   "id": "b0854fd2-d3f2-4ed6-82a5-7917c1e18a37",
   "metadata": {},
   "outputs": [
    {
     "name": "stderr",
     "output_type": "stream",
     "text": [
      "C:\\Users\\Asus\\AppData\\Local\\Temp\\ipykernel_4336\\451994576.py:4: FutureWarning: A value is trying to be set on a copy of a DataFrame or Series through chained assignment using an inplace method.\n",
      "The behavior will change in pandas 3.0. This inplace method will never work because the intermediate object on which we are setting values always behaves as a copy.\n",
      "\n",
      "For example, when doing 'df[col].method(value, inplace=True)', try using 'df.method({col: value}, inplace=True)' or df[col] = df[col].method(value) instead, to perform the operation inplace on the original object.\n",
      "\n",
      "\n",
      "  movieData[\"Duration\"].fillna(movieData[\"Duration\"].median(), inplace=True)\n",
      "C:\\Users\\Asus\\AppData\\Local\\Temp\\ipykernel_4336\\451994576.py:7: FutureWarning: A value is trying to be set on a copy of a DataFrame or Series through chained assignment using an inplace method.\n",
      "The behavior will change in pandas 3.0. This inplace method will never work because the intermediate object on which we are setting values always behaves as a copy.\n",
      "\n",
      "For example, when doing 'df[col].method(value, inplace=True)', try using 'df.method({col: value}, inplace=True)' or df[col] = df[col].method(value) instead, to perform the operation inplace on the original object.\n",
      "\n",
      "\n",
      "  movieData[\"Year\"].fillna(movieData[\"Year\"].median(), inplace=True)\n",
      "C:\\Users\\Asus\\AppData\\Local\\Temp\\ipykernel_4336\\451994576.py:10: FutureWarning: A value is trying to be set on a copy of a DataFrame or Series through chained assignment using an inplace method.\n",
      "The behavior will change in pandas 3.0. This inplace method will never work because the intermediate object on which we are setting values always behaves as a copy.\n",
      "\n",
      "For example, when doing 'df[col].method(value, inplace=True)', try using 'df.method({col: value}, inplace=True)' or df[col] = df[col].method(value) instead, to perform the operation inplace on the original object.\n",
      "\n",
      "\n",
      "  movieData[\"Votes\"].fillna(movieData[\"Votes\"].median(), inplace=True)\n"
     ]
    }
   ],
   "source": [
    "# Data Cleaning: Handle missing and incorrect values\n",
    "movieData[\"Duration\"] = movieData[\"Duration\"].astype(str).str.extract(r\"(\\d+)\") \n",
    "movieData[\"Duration\"] = pd.to_numeric(movieData[\"Duration\"], errors=\"coerce\")\n",
    "movieData[\"Duration\"].fillna(movieData[\"Duration\"].median(), inplace=True)\n",
    "\n",
    "movieData[\"Year\"] = pd.to_numeric(movieData[\"Year\"], errors=\"coerce\")\n",
    "movieData[\"Year\"].fillna(movieData[\"Year\"].median(), inplace=True)\n",
    "\n",
    "movieData[\"Votes\"] = pd.to_numeric(movieData[\"Votes\"], errors=\"coerce\")\n",
    "movieData[\"Votes\"].fillna(movieData[\"Votes\"].median(), inplace=True)"
   ]
  },
  {
   "cell_type": "code",
   "execution_count": 30,
   "id": "4bab865b-6308-4713-83b9-4adfb6a74655",
   "metadata": {},
   "outputs": [],
   "source": [
    "from sklearn.preprocessing import LabelEncoder\n",
    "\n",
    "label_encoders = {}\n",
    "categorical_columns = [\"Genre\", \"Director\", \"Actor 1\", \"Actor 2\", \"Actor 3\"]\n",
    "\n",
    "for col in categorical_columns:\n",
    "    movieData[col] = movieData[col].astype(str)  # Correct: Convert actual column data to string\n",
    "    label_encoders[col] = LabelEncoder()\n",
    "    movieData[col] = label_encoders[col].fit_transform(movieData[col])"
   ]
  },
  {
   "cell_type": "code",
   "execution_count": 32,
   "id": "19e90b2b-cacb-4241-b2d6-11116d91232a",
   "metadata": {},
   "outputs": [],
   "source": [
    "# Define target variable and features\n",
    "X =  movieData.drop(columns=[\"Rating\"])  # Features\n",
    "y = pd.to_numeric( movieData[\"Rating\"], errors=\"coerce\")  # Ensure target variable is numeric\n",
    "y.fillna(y.median(), inplace=True)  # Fill missing ratings with median|"
   ]
  },
  {
   "cell_type": "code",
   "execution_count": 35,
   "id": "5eed6261-e741-40dd-bf85-d0577337fa86",
   "metadata": {},
   "outputs": [],
   "source": [
    "from sklearn.model_selection import train_test_split\n",
    "\n",
    "# Assuming X is your feature matrix and y is your target variable\n",
    "X_train, X_test, y_train, y_test = train_test_split(X, y, test_size=0.2, random_state=42)"
   ]
  },
  {
   "cell_type": "code",
   "execution_count": 36,
   "id": "6453e3c0-7dcc-4224-a06b-cbff58a811a8",
   "metadata": {},
   "outputs": [],
   "source": [
    "from sklearn.preprocessing import StandardScaler\n",
    "scaler = StandardScaler()\n",
    "X_train = scaler.fit_transform(X_train)\n",
    "X_test = scaler.transform(X_test)"
   ]
  },
  {
   "cell_type": "code",
   "execution_count": 37,
   "id": "65093b4a-ad00-4103-975b-45abe4b69717",
   "metadata": {},
   "outputs": [
    {
     "name": "stdout",
     "output_type": "stream",
     "text": [
      "NaN values in X_test: 0\n",
      "NaN values in y_test: 0\n",
      "Inf values in X_test: 0\n",
      "Inf values in y_test: 0\n"
     ]
    }
   ],
   "source": [
    "# Check for NaN and Inf values in X_test and y_test\n",
    "print(\"NaN values in X_test:\", np.isnan(X_test).sum())\n",
    "print(\"NaN values in y_test:\", np.isnan(y_test).sum())\n",
    "print(\"Inf values in X_test:\", np.isinf(X_test).sum())\n",
    "print(\"Inf values in y_test:\", np.isinf(y_test).sum())"
   ]
  },
  {
   "cell_type": "code",
   "execution_count": 38,
   "id": "62e78933-3825-4831-a90c-3f7092390713",
   "metadata": {},
   "outputs": [],
   "source": [
    "_test = np.nan_to_num(X_test)\n",
    "y_test = np.nan_to_num(y_test)"
   ]
  },
  {
   "cell_type": "code",
   "execution_count": 39,
   "id": "ca54f802-3235-4afd-83a6-b7849696d74f",
   "metadata": {},
   "outputs": [],
   "source": [
    "# Drop any remaining NaN rows in X_test\n",
    "mask = np.isnan(X_test).any(axis=1)\n",
    "X_test = X_test[~mask]\n",
    "y_test = y_test[~mask]"
   ]
  },
  {
   "cell_type": "code",
   "execution_count": 40,
   "id": "d53f6ff2-35c5-4e0d-b4f5-c29943d9b35d",
   "metadata": {},
   "outputs": [
    {
     "name": "stdout",
     "output_type": "stream",
     "text": [
      "Final X_test NaN count: 0\n"
     ]
    }
   ],
   "source": [
    "print(\"Final X_test NaN count:\", np.isnan(X_test).sum())"
   ]
  },
  {
   "cell_type": "code",
   "execution_count": 43,
   "id": "3abeb598-96b1-4e93-8f67-6f56cad83fa0",
   "metadata": {},
   "outputs": [],
   "source": [
    "# Build Model"
   ]
  },
  {
   "cell_type": "code",
   "execution_count": 44,
   "id": "3374aed9-bf2a-46bd-9268-501b21cb732f",
   "metadata": {},
   "outputs": [
    {
     "data": {
      "text/html": [
       "<div>\n",
       "<style scoped>\n",
       "    .dataframe tbody tr th:only-of-type {\n",
       "        vertical-align: middle;\n",
       "    }\n",
       "\n",
       "    .dataframe tbody tr th {\n",
       "        vertical-align: top;\n",
       "    }\n",
       "\n",
       "    .dataframe thead th {\n",
       "        text-align: right;\n",
       "    }\n",
       "</style>\n",
       "<table border=\"1\" class=\"dataframe\">\n",
       "  <thead>\n",
       "    <tr style=\"text-align: right;\">\n",
       "      <th></th>\n",
       "      <th>Year</th>\n",
       "      <th>Duration</th>\n",
       "      <th>Genre</th>\n",
       "      <th>Rating</th>\n",
       "      <th>Votes</th>\n",
       "      <th>Director</th>\n",
       "      <th>Actor 1</th>\n",
       "      <th>Actor 2</th>\n",
       "      <th>Actor 3</th>\n",
       "    </tr>\n",
       "  </thead>\n",
       "  <tbody>\n",
       "    <tr>\n",
       "      <th>1</th>\n",
       "      <td>2019</td>\n",
       "      <td>109</td>\n",
       "      <td>229</td>\n",
       "      <td>7.0</td>\n",
       "      <td>8</td>\n",
       "      <td>629</td>\n",
       "      <td>1352</td>\n",
       "      <td>2272</td>\n",
       "      <td>319</td>\n",
       "    </tr>\n",
       "    <tr>\n",
       "      <th>3</th>\n",
       "      <td>2019</td>\n",
       "      <td>110</td>\n",
       "      <td>184</td>\n",
       "      <td>4.4</td>\n",
       "      <td>35</td>\n",
       "      <td>1335</td>\n",
       "      <td>1198</td>\n",
       "      <td>719</td>\n",
       "      <td>2148</td>\n",
       "    </tr>\n",
       "    <tr>\n",
       "      <th>5</th>\n",
       "      <td>1997</td>\n",
       "      <td>147</td>\n",
       "      <td>157</td>\n",
       "      <td>4.7</td>\n",
       "      <td>827</td>\n",
       "      <td>1530</td>\n",
       "      <td>378</td>\n",
       "      <td>75</td>\n",
       "      <td>2045</td>\n",
       "    </tr>\n",
       "    <tr>\n",
       "      <th>6</th>\n",
       "      <td>2005</td>\n",
       "      <td>142</td>\n",
       "      <td>289</td>\n",
       "      <td>7.4</td>\n",
       "      <td>1086</td>\n",
       "      <td>2044</td>\n",
       "      <td>692</td>\n",
       "      <td>1112</td>\n",
       "      <td>2524</td>\n",
       "    </tr>\n",
       "    <tr>\n",
       "      <th>8</th>\n",
       "      <td>2012</td>\n",
       "      <td>82</td>\n",
       "      <td>320</td>\n",
       "      <td>5.6</td>\n",
       "      <td>326</td>\n",
       "      <td>135</td>\n",
       "      <td>1934</td>\n",
       "      <td>1175</td>\n",
       "      <td>1013</td>\n",
       "    </tr>\n",
       "    <tr>\n",
       "      <th>...</th>\n",
       "      <td>...</td>\n",
       "      <td>...</td>\n",
       "      <td>...</td>\n",
       "      <td>...</td>\n",
       "      <td>...</td>\n",
       "      <td>...</td>\n",
       "      <td>...</td>\n",
       "      <td>...</td>\n",
       "      <td>...</td>\n",
       "    </tr>\n",
       "    <tr>\n",
       "      <th>15493</th>\n",
       "      <td>2015</td>\n",
       "      <td>115</td>\n",
       "      <td>229</td>\n",
       "      <td>6.1</td>\n",
       "      <td>408</td>\n",
       "      <td>1223</td>\n",
       "      <td>1861</td>\n",
       "      <td>1801</td>\n",
       "      <td>1615</td>\n",
       "    </tr>\n",
       "    <tr>\n",
       "      <th>15494</th>\n",
       "      <td>2001</td>\n",
       "      <td>153</td>\n",
       "      <td>133</td>\n",
       "      <td>6.2</td>\n",
       "      <td>1496</td>\n",
       "      <td>2059</td>\n",
       "      <td>763</td>\n",
       "      <td>1619</td>\n",
       "      <td>1184</td>\n",
       "    </tr>\n",
       "    <tr>\n",
       "      <th>15503</th>\n",
       "      <td>1989</td>\n",
       "      <td>125</td>\n",
       "      <td>28</td>\n",
       "      <td>5.8</td>\n",
       "      <td>44</td>\n",
       "      <td>1793</td>\n",
       "      <td>406</td>\n",
       "      <td>754</td>\n",
       "      <td>1685</td>\n",
       "    </tr>\n",
       "    <tr>\n",
       "      <th>15505</th>\n",
       "      <td>1999</td>\n",
       "      <td>129</td>\n",
       "      <td>38</td>\n",
       "      <td>4.5</td>\n",
       "      <td>655</td>\n",
       "      <td>1025</td>\n",
       "      <td>112</td>\n",
       "      <td>2164</td>\n",
       "      <td>314</td>\n",
       "    </tr>\n",
       "    <tr>\n",
       "      <th>15508</th>\n",
       "      <td>1998</td>\n",
       "      <td>130</td>\n",
       "      <td>38</td>\n",
       "      <td>6.2</td>\n",
       "      <td>20</td>\n",
       "      <td>895</td>\n",
       "      <td>468</td>\n",
       "      <td>753</td>\n",
       "      <td>303</td>\n",
       "    </tr>\n",
       "  </tbody>\n",
       "</table>\n",
       "<p>5659 rows × 9 columns</p>\n",
       "</div>"
      ],
      "text/plain": [
       "       Year  Duration  Genre  Rating  Votes  Director  Actor 1  Actor 2  \\\n",
       "1      2019       109    229     7.0      8       629     1352     2272   \n",
       "3      2019       110    184     4.4     35      1335     1198      719   \n",
       "5      1997       147    157     4.7    827      1530      378       75   \n",
       "6      2005       142    289     7.4   1086      2044      692     1112   \n",
       "8      2012        82    320     5.6    326       135     1934     1175   \n",
       "...     ...       ...    ...     ...    ...       ...      ...      ...   \n",
       "15493  2015       115    229     6.1    408      1223     1861     1801   \n",
       "15494  2001       153    133     6.2   1496      2059      763     1619   \n",
       "15503  1989       125     28     5.8     44      1793      406      754   \n",
       "15505  1999       129     38     4.5    655      1025      112     2164   \n",
       "15508  1998       130     38     6.2     20       895      468      753   \n",
       "\n",
       "       Actor 3  \n",
       "1          319  \n",
       "3         2148  \n",
       "5         2045  \n",
       "6         2524  \n",
       "8         1013  \n",
       "...        ...  \n",
       "15493     1615  \n",
       "15494     1184  \n",
       "15503     1685  \n",
       "15505      314  \n",
       "15508      303  \n",
       "\n",
       "[5659 rows x 9 columns]"
      ]
     },
     "execution_count": 44,
     "metadata": {},
     "output_type": "execute_result"
    }
   ],
   "source": [
    "movieData"
   ]
  },
  {
   "cell_type": "code",
   "execution_count": 53,
   "id": "be0fe37c-10ea-4e4d-9a5d-4cd9b03fcce2",
   "metadata": {},
   "outputs": [
    {
     "data": {
      "text/html": [
       "<div>\n",
       "<style scoped>\n",
       "    .dataframe tbody tr th:only-of-type {\n",
       "        vertical-align: middle;\n",
       "    }\n",
       "\n",
       "    .dataframe tbody tr th {\n",
       "        vertical-align: top;\n",
       "    }\n",
       "\n",
       "    .dataframe thead th {\n",
       "        text-align: right;\n",
       "    }\n",
       "</style>\n",
       "<table border=\"1\" class=\"dataframe\">\n",
       "  <thead>\n",
       "    <tr style=\"text-align: right;\">\n",
       "      <th></th>\n",
       "      <th>Year</th>\n",
       "      <th>Duration</th>\n",
       "      <th>Genre</th>\n",
       "      <th>Rating</th>\n",
       "      <th>Votes</th>\n",
       "      <th>Director</th>\n",
       "      <th>Actor 1</th>\n",
       "      <th>Actor 2</th>\n",
       "      <th>Actor 3</th>\n",
       "    </tr>\n",
       "  </thead>\n",
       "  <tbody>\n",
       "    <tr>\n",
       "      <th>1</th>\n",
       "      <td>2019</td>\n",
       "      <td>109</td>\n",
       "      <td>229</td>\n",
       "      <td>7.0</td>\n",
       "      <td>8</td>\n",
       "      <td>629</td>\n",
       "      <td>1352</td>\n",
       "      <td>2272</td>\n",
       "      <td>319</td>\n",
       "    </tr>\n",
       "    <tr>\n",
       "      <th>3</th>\n",
       "      <td>2019</td>\n",
       "      <td>110</td>\n",
       "      <td>184</td>\n",
       "      <td>4.4</td>\n",
       "      <td>35</td>\n",
       "      <td>1335</td>\n",
       "      <td>1198</td>\n",
       "      <td>719</td>\n",
       "      <td>2148</td>\n",
       "    </tr>\n",
       "    <tr>\n",
       "      <th>5</th>\n",
       "      <td>1997</td>\n",
       "      <td>147</td>\n",
       "      <td>157</td>\n",
       "      <td>4.7</td>\n",
       "      <td>827</td>\n",
       "      <td>1530</td>\n",
       "      <td>378</td>\n",
       "      <td>75</td>\n",
       "      <td>2045</td>\n",
       "    </tr>\n",
       "    <tr>\n",
       "      <th>6</th>\n",
       "      <td>2005</td>\n",
       "      <td>142</td>\n",
       "      <td>289</td>\n",
       "      <td>7.4</td>\n",
       "      <td>1086</td>\n",
       "      <td>2044</td>\n",
       "      <td>692</td>\n",
       "      <td>1112</td>\n",
       "      <td>2524</td>\n",
       "    </tr>\n",
       "    <tr>\n",
       "      <th>8</th>\n",
       "      <td>2012</td>\n",
       "      <td>82</td>\n",
       "      <td>320</td>\n",
       "      <td>5.6</td>\n",
       "      <td>326</td>\n",
       "      <td>135</td>\n",
       "      <td>1934</td>\n",
       "      <td>1175</td>\n",
       "      <td>1013</td>\n",
       "    </tr>\n",
       "    <tr>\n",
       "      <th>...</th>\n",
       "      <td>...</td>\n",
       "      <td>...</td>\n",
       "      <td>...</td>\n",
       "      <td>...</td>\n",
       "      <td>...</td>\n",
       "      <td>...</td>\n",
       "      <td>...</td>\n",
       "      <td>...</td>\n",
       "      <td>...</td>\n",
       "    </tr>\n",
       "    <tr>\n",
       "      <th>15493</th>\n",
       "      <td>2015</td>\n",
       "      <td>115</td>\n",
       "      <td>229</td>\n",
       "      <td>6.1</td>\n",
       "      <td>408</td>\n",
       "      <td>1223</td>\n",
       "      <td>1861</td>\n",
       "      <td>1801</td>\n",
       "      <td>1615</td>\n",
       "    </tr>\n",
       "    <tr>\n",
       "      <th>15494</th>\n",
       "      <td>2001</td>\n",
       "      <td>153</td>\n",
       "      <td>133</td>\n",
       "      <td>6.2</td>\n",
       "      <td>1496</td>\n",
       "      <td>2059</td>\n",
       "      <td>763</td>\n",
       "      <td>1619</td>\n",
       "      <td>1184</td>\n",
       "    </tr>\n",
       "    <tr>\n",
       "      <th>15503</th>\n",
       "      <td>1989</td>\n",
       "      <td>125</td>\n",
       "      <td>28</td>\n",
       "      <td>5.8</td>\n",
       "      <td>44</td>\n",
       "      <td>1793</td>\n",
       "      <td>406</td>\n",
       "      <td>754</td>\n",
       "      <td>1685</td>\n",
       "    </tr>\n",
       "    <tr>\n",
       "      <th>15505</th>\n",
       "      <td>1999</td>\n",
       "      <td>129</td>\n",
       "      <td>38</td>\n",
       "      <td>4.5</td>\n",
       "      <td>655</td>\n",
       "      <td>1025</td>\n",
       "      <td>112</td>\n",
       "      <td>2164</td>\n",
       "      <td>314</td>\n",
       "    </tr>\n",
       "    <tr>\n",
       "      <th>15508</th>\n",
       "      <td>1998</td>\n",
       "      <td>130</td>\n",
       "      <td>38</td>\n",
       "      <td>6.2</td>\n",
       "      <td>20</td>\n",
       "      <td>895</td>\n",
       "      <td>468</td>\n",
       "      <td>753</td>\n",
       "      <td>303</td>\n",
       "    </tr>\n",
       "  </tbody>\n",
       "</table>\n",
       "<p>5659 rows × 9 columns</p>\n",
       "</div>"
      ],
      "text/plain": [
       "       Year  Duration  Genre  Rating  Votes  Director  Actor 1  Actor 2  \\\n",
       "1      2019       109    229     7.0      8       629     1352     2272   \n",
       "3      2019       110    184     4.4     35      1335     1198      719   \n",
       "5      1997       147    157     4.7    827      1530      378       75   \n",
       "6      2005       142    289     7.4   1086      2044      692     1112   \n",
       "8      2012        82    320     5.6    326       135     1934     1175   \n",
       "...     ...       ...    ...     ...    ...       ...      ...      ...   \n",
       "15493  2015       115    229     6.1    408      1223     1861     1801   \n",
       "15494  2001       153    133     6.2   1496      2059      763     1619   \n",
       "15503  1989       125     28     5.8     44      1793      406      754   \n",
       "15505  1999       129     38     4.5    655      1025      112     2164   \n",
       "15508  1998       130     38     6.2     20       895      468      753   \n",
       "\n",
       "       Actor 3  \n",
       "1          319  \n",
       "3         2148  \n",
       "5         2045  \n",
       "6         2524  \n",
       "8         1013  \n",
       "...        ...  \n",
       "15493     1615  \n",
       "15494     1184  \n",
       "15503     1685  \n",
       "15505      314  \n",
       "15508      303  \n",
       "\n",
       "[5659 rows x 9 columns]"
      ]
     },
     "execution_count": 53,
     "metadata": {},
     "output_type": "execute_result"
    }
   ],
   "source": [
    "movieData"
   ]
  },
  {
   "cell_type": "code",
   "execution_count": 56,
   "id": "9550329e-d004-4b14-a9e2-1f94761c2dc7",
   "metadata": {},
   "outputs": [],
   "source": [
    "\n",
    "import sklearn\n",
    "import scipy.stats as stats\n",
    "import seaborn as sns\n",
    "\n",
    "from sklearn.model_selection import train_test_split, cross_val_score\n",
    "\n",
    "from sklearn.linear_model import LinearRegression\n",
    "from sklearn.ensemble import RandomForestRegressor\n",
    "\n",
    "from sklearn.metrics import accuracy_score, mean_absolute_error, mean_squared_error, r2_score\n",
    "import warnings\n",
    "warnings.filterwarnings('ignore')\n",
    "plt.rcParams[\"figure.figsize\"] = [10,5]\n",
    "# Ignore warnings\n",
    "\n",
    "import warnings\n",
    "# Set the warning filter to ignore FutureWarning\n",
    "warnings.simplefilter(action = \"ignore\", category = FutureWarning)"
   ]
  },
  {
   "cell_type": "code",
   "execution_count": 65,
   "id": "b0b3607b-c4c4-4515-a9ff-929a4c747cc1",
   "metadata": {},
   "outputs": [],
   "source": [
    "X_train,X_test,y_train,y_test = train_test_split(X,y,test_size=0.2,random_state=7,shuffle=True)"
   ]
  },
  {
   "cell_type": "code",
   "execution_count": 66,
   "id": "cabda302-241a-4870-9dae-084acb6b30d6",
   "metadata": {},
   "outputs": [],
   "source": [
    "lr = LinearRegression()\n",
    "lr.fit(X_train,y_train)\n",
    "lr_pred = lr.predict(X_test)"
   ]
  },
  {
   "cell_type": "code",
   "execution_count": 67,
   "id": "a45fd40c-ceea-4dee-b35e-03c229825f82",
   "metadata": {},
   "outputs": [],
   "source": [
    "rf = RandomForestRegressor()\n",
    "rf.fit(X_train,y_train)\n",
    "rf_pred = rf.predict(X_test)"
   ]
  },
  {
   "cell_type": "code",
   "execution_count": 68,
   "id": "619ac605-4279-4203-a317-6c05d1e8a9f4",
   "metadata": {},
   "outputs": [
    {
     "name": "stdout",
     "output_type": "stream",
     "text": [
      "The performance evaluation of Logistic Regression is below:  \n",
      "\n",
      "Mean squared error:  1.6737157280790256\n",
      "Mean absolute error:  1.0384927106973283\n",
      "R2 score:  0.10855796557599273\n",
      "\n",
      " ==================================================================================================== \n",
      "\n",
      "The performance evaluation of Random Forest Regressor is below:  \n",
      "\n",
      "Mean squared error:  1.1769580786219083\n",
      "Mean absolute error:  0.8235167844522967\n",
      "R2 score:  0.37313733363629686\n"
     ]
    }
   ],
   "source": [
    "print('The performance evaluation of Logistic Regression is below: ', '\\n')\n",
    "print('Mean squared error: ',mean_squared_error(y_test, lr_pred))\n",
    "print('Mean absolute error: ',mean_absolute_error(y_test, lr_pred))\n",
    "print('R2 score: ',r2_score(y_test, lr_pred))\n",
    "print('\\n', '='*100, '\\n')\n",
    "\n",
    "print('The performance evaluation of Random Forest Regressor is below: ', '\\n')\n",
    "print('Mean squared error: ',mean_squared_error(y_test, rf_pred))\n",
    "print('Mean absolute error: ',mean_absolute_error(y_test, rf_pred))\n",
    "print('R2 score: ',r2_score(y_test, rf_pred))"
   ]
  },
  {
   "cell_type": "code",
   "execution_count": 70,
   "id": "e464bdba-7974-45b9-9c9a-b4a5d53f601d",
   "metadata": {},
   "outputs": [],
   "source": [
    "#Much better performance than logistic regression. An R² of 0.37 means that the model explains about 37% of the variance in movie ratings"
   ]
  },
  {
   "cell_type": "code",
   "execution_count": 72,
   "id": "f6db6aa3-e159-4107-9196-67a7af78a1f8",
   "metadata": {},
   "outputs": [
    {
     "name": "stdout",
     "output_type": "stream",
     "text": [
      "Mean squared error:  1.1454235568548996\n",
      "Mean absolute error:  0.8052571656847168\n",
      "R2 score:  0.3899330163003024\n"
     ]
    }
   ],
   "source": [
    "from xgboost import XGBRegressor\n",
    "from sklearn.metrics import mean_squared_error, mean_absolute_error, r2_score\n",
    "\n",
    "# Initialize the model\n",
    "xgb_model = XGBRegressor(\n",
    "    objective='reg:squarederror',\n",
    "    learning_rate=0.1,\n",
    "    max_depth=5,\n",
    "    n_estimators=100,\n",
    "    subsample=0.8,\n",
    "    colsample_bytree=0.8,\n",
    "    random_state=42\n",
    ")\n",
    "\n",
    "# Train the model\n",
    "xgb_model.fit(X_train, y_train)\n",
    "\n",
    "# Make predictions\n",
    "y_pred = xgb_model.predict(X_test)\n",
    "\n",
    "# Evaluate performance\n",
    "print(\"Mean squared error: \", mean_squared_error(y_test, y_pred))\n",
    "print(\"Mean absolute error: \", mean_absolute_error(y_test, y_pred))\n",
    "print(\"R2 score: \", r2_score(y_test, y_pred))"
   ]
  },
  {
   "cell_type": "code",
   "execution_count": 73,
   "id": "a66862db-35d8-4181-9f05-957a5f5ede67",
   "metadata": {},
   "outputs": [
    {
     "data": {
      "text/html": [
       "<div>\n",
       "<style scoped>\n",
       "    .dataframe tbody tr th:only-of-type {\n",
       "        vertical-align: middle;\n",
       "    }\n",
       "\n",
       "    .dataframe tbody tr th {\n",
       "        vertical-align: top;\n",
       "    }\n",
       "\n",
       "    .dataframe thead th {\n",
       "        text-align: right;\n",
       "    }\n",
       "</style>\n",
       "<table border=\"1\" class=\"dataframe\">\n",
       "  <thead>\n",
       "    <tr style=\"text-align: right;\">\n",
       "      <th></th>\n",
       "      <th>Year</th>\n",
       "      <th>Duration</th>\n",
       "      <th>Genre</th>\n",
       "      <th>Votes</th>\n",
       "      <th>Director</th>\n",
       "      <th>Actor 1</th>\n",
       "      <th>Actor 2</th>\n",
       "      <th>Actor 3</th>\n",
       "    </tr>\n",
       "  </thead>\n",
       "  <tbody>\n",
       "    <tr>\n",
       "      <th>1</th>\n",
       "      <td>2019</td>\n",
       "      <td>109</td>\n",
       "      <td>229</td>\n",
       "      <td>8</td>\n",
       "      <td>629</td>\n",
       "      <td>1352</td>\n",
       "      <td>2272</td>\n",
       "      <td>319</td>\n",
       "    </tr>\n",
       "    <tr>\n",
       "      <th>3</th>\n",
       "      <td>2019</td>\n",
       "      <td>110</td>\n",
       "      <td>184</td>\n",
       "      <td>35</td>\n",
       "      <td>1335</td>\n",
       "      <td>1198</td>\n",
       "      <td>719</td>\n",
       "      <td>2148</td>\n",
       "    </tr>\n",
       "    <tr>\n",
       "      <th>5</th>\n",
       "      <td>1997</td>\n",
       "      <td>147</td>\n",
       "      <td>157</td>\n",
       "      <td>827</td>\n",
       "      <td>1530</td>\n",
       "      <td>378</td>\n",
       "      <td>75</td>\n",
       "      <td>2045</td>\n",
       "    </tr>\n",
       "    <tr>\n",
       "      <th>6</th>\n",
       "      <td>2005</td>\n",
       "      <td>142</td>\n",
       "      <td>289</td>\n",
       "      <td>1086</td>\n",
       "      <td>2044</td>\n",
       "      <td>692</td>\n",
       "      <td>1112</td>\n",
       "      <td>2524</td>\n",
       "    </tr>\n",
       "    <tr>\n",
       "      <th>8</th>\n",
       "      <td>2012</td>\n",
       "      <td>82</td>\n",
       "      <td>320</td>\n",
       "      <td>326</td>\n",
       "      <td>135</td>\n",
       "      <td>1934</td>\n",
       "      <td>1175</td>\n",
       "      <td>1013</td>\n",
       "    </tr>\n",
       "  </tbody>\n",
       "</table>\n",
       "</div>"
      ],
      "text/plain": [
       "   Year  Duration  Genre  Votes  Director  Actor 1  Actor 2  Actor 3\n",
       "1  2019       109    229      8       629     1352     2272      319\n",
       "3  2019       110    184     35      1335     1198      719     2148\n",
       "5  1997       147    157    827      1530      378       75     2045\n",
       "6  2005       142    289   1086      2044      692     1112     2524\n",
       "8  2012        82    320    326       135     1934     1175     1013"
      ]
     },
     "execution_count": 73,
     "metadata": {},
     "output_type": "execute_result"
    }
   ],
   "source": [
    "X.head()"
   ]
  },
  {
   "cell_type": "code",
   "execution_count": 74,
   "id": "ca07fdb3-95d4-4036-8a97-e7b4c7c2fd99",
   "metadata": {},
   "outputs": [
    {
     "data": {
      "text/plain": [
       "1    7.0\n",
       "3    4.4\n",
       "5    4.7\n",
       "6    7.4\n",
       "8    5.6\n",
       "Name: Rating, dtype: float64"
      ]
     },
     "execution_count": 74,
     "metadata": {},
     "output_type": "execute_result"
    }
   ],
   "source": [
    "y.head()"
   ]
  },
  {
   "cell_type": "code",
   "execution_count": 79,
   "id": "f1a62148-0f35-4896-970f-ae72f24637d0",
   "metadata": {},
   "outputs": [],
   "source": [
    "#data = {'Year': [2005], 'Duration': [116], 'Genre': ['Drama'], 'Votes': [1002], \n",
    "#        'Director': ['Director A'], 'Actor 1': ['Actor A1'], 'Actor 2': ['Actor A2'], 'Actor 3': ['Actor A3']}\n",
    "#df = pd.DataFrame(data)\n"
   ]
  },
  {
   "cell_type": "code",
   "execution_count": 81,
   "id": "eaf229cf-d98a-4860-8a0d-625def7ff6c0",
   "metadata": {
    "scrolled": true
   },
   "outputs": [
    {
     "name": "stdout",
     "output_type": "stream",
     "text": [
      "Predicted Rating: 1002.0\n"
     ]
    }
   ],
   "source": [
    "from sklearn.preprocessing import LabelEncoder\n",
    "from xgboost import XGBRegressor\n",
    "\n",
    "# Example data (replace with your actual data)\n",
    "data = {'Year': [2005], 'Duration': [116], 'Genre': ['Drama'], 'Votes': [1002], \n",
    "        'Director': ['Director A'], 'Actor 1': ['Actor A1'], 'Actor 2': ['Actor A2'], 'Actor 3': ['Actor A3']}\n",
    "df = pd.DataFrame(data)\n",
    "\n",
    "# Define columns to encode (categorical columns)\n",
    "categorical_columns = ['Genre', 'Director', 'Actor 1', 'Actor 2', 'Actor 3']\n",
    "\n",
    "# Initialize label encoders for categorical columns\n",
    "label_encoders = {}\n",
    "\n",
    "# Apply label encoding to categorical columns\n",
    "for col in categorical_columns:\n",
    "    label_encoders[col] = LabelEncoder()\n",
    "    df[col] = label_encoders[col].fit_transform(df[col])\n",
    "\n",
    "# Separate features (X) and target variable (y)\n",
    "X = df.drop(columns=['Votes'])  # 'Votes' is the target, we don't need it for prediction\n",
    "y = df['Votes']  # Target variable\n",
    "\n",
    "# Train the XGBoost model (if not already trained)\n",
    "xgb_model = XGBRegressor(objective='reg:squarederror', random_state=42)\n",
    "xgb_model.fit(X, y)\n",
    "\n",
    "# Prepare the new data to predict\n",
    "new_data = {'Year': [2005], 'Duration': [116], 'Genre': ['Drama'], \n",
    "            'Director': ['Director A'], 'Actor 1': ['Actor A1'], \n",
    "            'Actor 2': ['Actor A2'], 'Actor 3': ['Actor A3']}\n",
    "df_new = pd.DataFrame(new_data)\n",
    "\n",
    "# Apply label encoding to the new data\n",
    "for col in categorical_columns:\n",
    "    df_new[col] = label_encoders[col].transform(df_new[col])\n",
    "\n",
    "# Predict on the new data\n",
    "predicted_rating_xgb = xgb_model.predict(df_new)\n",
    "\n",
    "# Display the predicted rating\n",
    "print(\"Predicted Rating:\", predicted_rating_xgb[0])"
   ]
  },
  {
   "cell_type": "code",
   "execution_count": 82,
   "id": "f32a2f81-b681-4e42-bdc9-1615c5d6865e",
   "metadata": {},
   "outputs": [],
   "source": [
    "# model is overfitted "
   ]
  },
  {
   "cell_type": "markdown",
   "id": "26b16b56-b903-48ab-9e64-2ef2bad0b832",
   "metadata": {},
   "source": [
    "#The current model exhibits signs of overfitting, as evidenced by the discrepancy in performance between the training and test datasets. Specifically, the training error is significantly lower than the test error, indicating that the model is likely memorizing the training data rather than learning generalizable patterns.\n",
    "\n",
    "To improve the model and mitigate overfitting, I recommend the following steps:\n",
    "\n",
    "Apply Regularization: Implement L1 or L2 regularization to penalize large weights and simplify the model.\n",
    "\n",
    "Limit Model Complexity: Reduce the depth of the trees or the number of estimators in the XGBoost model.\n",
    "\n",
    "Cross-Validation: Use K-fold cross-validation to better assess the model's generalization ability and reduce the risk of overfitting."
   ]
  },
  {
   "cell_type": "code",
   "execution_count": null,
   "id": "99e402f7-428f-45fd-a48b-643591afe76a",
   "metadata": {},
   "outputs": [],
   "source": []
  }
 ],
 "metadata": {
  "kernelspec": {
   "display_name": "Python 3 (ipykernel)",
   "language": "python",
   "name": "python3"
  },
  "language_info": {
   "codemirror_mode": {
    "name": "ipython",
    "version": 3
   },
   "file_extension": ".py",
   "mimetype": "text/x-python",
   "name": "python",
   "nbconvert_exporter": "python",
   "pygments_lexer": "ipython3",
   "version": "3.13.2"
  }
 },
 "nbformat": 4,
 "nbformat_minor": 5
}
